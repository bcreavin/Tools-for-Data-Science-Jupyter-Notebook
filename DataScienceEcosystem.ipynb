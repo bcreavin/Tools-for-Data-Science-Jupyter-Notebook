{
 "cells": [
  {
   "cell_type": "markdown",
   "id": "01d988aa-b699-4806-8418-f3ff7cde7e89",
   "metadata": {
    "tags": []
   },
   "source": [
    "# Data Science Tools and Ecosystem"
   ]
  },
  {
   "cell_type": "markdown",
   "id": "277e6c98-7679-48c3-a3f8-b452da9f694f",
   "metadata": {},
   "source": [
    "In this notebook, Data Science Tools and Ecosystem are summarized."
   ]
  },
  {
   "cell_type": "markdown",
   "id": "97ba1be8-c17d-4114-9aee-0af1d85706d8",
   "metadata": {},
   "source": [
    "**Objectives:**\n",
    "\n",
    "- List popular languages for Data Science\n",
    "- List commonly used libraries for Data Science\n",
    "- List commonly used Data Science tools\n",
    "- Show arithmetic expressions evaluated in Python"
   ]
  },
  {
   "cell_type": "markdown",
   "id": "ad6ea7f2-c00f-4fdd-988d-72f0837441c7",
   "metadata": {
    "tags": []
   },
   "source": [
    "Some of the popular languages that Data Scientists use are:\n",
    "\n",
    "    1. Python\n",
    "    2. Java\n",
    "    3. R\n",
    "    4. SQL"
   ]
  },
  {
   "cell_type": "markdown",
   "id": "80803a4e-e140-4d94-86cd-b831561f5c8a",
   "metadata": {},
   "source": [
    "Some of the commonly used libraries used by Data Scientists include:\n",
    "\n",
    "    1. Pandas\n",
    "    2. TensorFlow\n",
    "    3. PyTorch\n",
    "    4. Matplotlib"
   ]
  },
  {
   "cell_type": "markdown",
   "id": "58140835-6e56-43a7-b3aa-bb7f2c3e0ca9",
   "metadata": {},
   "source": [
    "| Data Science Tools |\n",
    "| ------------------ |\n",
    "| MySQL |\n",
    "| Prediction IO |\n",
    "| RStudio |"
   ]
  },
  {
   "cell_type": "markdown",
   "id": "0e0c090b-2e8c-4b00-b017-dd6846b6926a",
   "metadata": {},
   "source": [
    "### Below are a few examples of evaluating arithmetic expressions in Python\n"
   ]
  },
  {
   "cell_type": "code",
   "execution_count": 4,
   "id": "d9e95e66-b466-4d53-af58-021593ea3fff",
   "metadata": {
    "tags": []
   },
   "outputs": [
    {
     "data": {
      "text/plain": [
       "17"
      ]
     },
     "execution_count": 4,
     "metadata": {},
     "output_type": "execute_result"
    }
   ],
   "source": [
    "#This a simple arithmetic expression to mutiply then add integers\n",
    "(3*4)+5"
   ]
  },
  {
   "cell_type": "code",
   "execution_count": 5,
   "id": "77698489-09c0-4ba5-b115-c457acae41a8",
   "metadata": {
    "tags": []
   },
   "outputs": [
    {
     "name": "stdout",
     "output_type": "stream",
     "text": [
      "3.3333333333333335\n"
     ]
    }
   ],
   "source": [
    "#This will convert 200 minutes to hours by diving by 60\n",
    "minutes = 200\n",
    "hours = minutes/60\n",
    "print(hours)"
   ]
  },
  {
   "cell_type": "markdown",
   "id": "f9dfce69-449e-44ca-a3cf-ba72467d6075",
   "metadata": {},
   "source": [
    "## Author\n",
    "Brendan Creavin"
   ]
  }
 ],
 "metadata": {
  "kernelspec": {
   "display_name": "Python",
   "language": "python",
   "name": "conda-env-python-py"
  },
  "language_info": {
   "codemirror_mode": {
    "name": "ipython",
    "version": 3
   },
   "file_extension": ".py",
   "mimetype": "text/x-python",
   "name": "python",
   "nbconvert_exporter": "python",
   "pygments_lexer": "ipython3",
   "version": "3.7.12"
  }
 },
 "nbformat": 4,
 "nbformat_minor": 5
}
